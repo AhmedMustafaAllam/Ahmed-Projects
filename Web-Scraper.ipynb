{
 "cells": [
  {
   "cell_type": "code",
   "execution_count": 261,
   "id": "4982b19b",
   "metadata": {},
   "outputs": [],
   "source": [
    "import requests\n",
    "from bs4 import BeautifulSoup\n",
    "import csv\n",
    "import json"
   ]
  },
  {
   "cell_type": "code",
   "execution_count": 262,
   "id": "0e424b47",
   "metadata": {},
   "outputs": [],
   "source": [
    "from itertools import zip_longest"
   ]
  },
  {
   "cell_type": "code",
   "execution_count": 263,
   "id": "7e088f4a",
   "metadata": {},
   "outputs": [],
   "source": [
    "title=[]\n",
    "company=[]\n",
    "job=[]\n",
    "description=[]\n",
    "location=[]\n",
    "link=[]\n",
    "k = 0"
   ]
  },
  {
   "cell_type": "code",
   "execution_count": 264,
   "id": "0eb6be86",
   "metadata": {},
   "outputs": [],
   "source": [
    "for k in range(36):\n",
    "\n",
    "    #Reading the website main page\n",
    "    \n",
    "    main = requests.get(f\"https://wuzzuf.net/search/jobs/?a=hpb&q=HR%20&start={k}\")\n",
    "    \n",
    "    content = main.content\n",
    "    \n",
    "    soup = BeautifulSoup(content,\"lxml\")\n",
    "    \n",
    "    #print(soup.prettify())\n",
    "    \n",
    "    #Get the list that includes the data we need\n",
    "    \n",
    "    job_title = soup.find_all(\"h2\",{\"class\":\"css-m604qf\"})\n",
    "    company_name = soup.find_all(\"a\",{\"class\":\"css-17s97q8\"})\n",
    "    job_tags = soup.find_all(\"div\",{\"class\":\"css-1lh32fc\"})\n",
    "    details = soup.find_all(\"div\",{\"class\":\"css-y4udm8\"})\n",
    "    company_location = soup.find_all(\"span\",{\"class\":\"css-5wys0k\"})\n",
    "    \n",
    "    #Get the data we need from the list we created\n",
    "    \n",
    "    for i in range(len(job_title)):\n",
    "        title.append(job_title[i].text)\n",
    "        company.append(company_name[i].text)\n",
    "        job.append(job_tags[i].text)\n",
    "        description.append(details[i].text)\n",
    "        location.append(company_location[i].text)\n",
    "        # to get the links of the positions that are by default in the job titles\n",
    "        link.append(\"https://wuzzuf.net\" + job_title[i].find(\"a\").attrs['href'])"
   ]
  },
  {
   "cell_type": "code",
   "execution_count": 265,
   "id": "a7916c8a",
   "metadata": {},
   "outputs": [],
   "source": [
    "#print(link)"
   ]
  },
  {
   "cell_type": "code",
   "execution_count": 266,
   "id": "abb2edb7",
   "metadata": {},
   "outputs": [],
   "source": [
    "csv_title=[\"Job Title\",\"Company Name\",\"Job Type\",\"Details\",\"Location\",\"Job Link\"]\n",
    "file_list = [title,company,job,description,location,link]\n",
    "unpacked = zip_longest(*file_list)"
   ]
  },
  {
   "cell_type": "code",
   "execution_count": 267,
   "id": "8309ea9d",
   "metadata": {},
   "outputs": [],
   "source": [
    "with open (\"D:\\WUZUF.csv\",\"w\",newline='',encoding=\"utf-8\") as file:\n",
    "    wr = csv.writer(file)\n",
    "    wr.writerow(csv_title)\n",
    "    wr.writerows(unpacked)"
   ]
  }
 ],
 "metadata": {
  "kernelspec": {
   "display_name": "Python 3 (ipykernel)",
   "language": "python",
   "name": "python3"
  },
  "language_info": {
   "codemirror_mode": {
    "name": "ipython",
    "version": 3
   },
   "file_extension": ".py",
   "mimetype": "text/x-python",
   "name": "python",
   "nbconvert_exporter": "python",
   "pygments_lexer": "ipython3",
   "version": "3.9.13"
  }
 },
 "nbformat": 4,
 "nbformat_minor": 5
}
